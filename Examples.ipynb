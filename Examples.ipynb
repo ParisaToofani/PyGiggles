{
 "cells": [
  {
   "cell_type": "markdown",
   "metadata": {},
   "source": [
    "# Introduction\n",
    "\n",
    "This notebook provides practical examples demonstrating how to utilize the Python codes from the repository. The repository contains various .py files with useful implementations across different tasks. In this notebook, you will find examples showcasing the application of these codes, helping you understand how to integrate and use them in your own projects.\n",
    "\n",
    "Each example highlights the usage of specific functions or classes from the provided Python files, offering insights into real-world applications. Follow along to see how these implementations can streamline your coding processes and solve common programming challenges. "
   ]
  },
  {
   "cell_type": "markdown",
   "metadata": {},
   "source": [
    "## Draw Polygone on the map\n",
    "\n",
    "In this example, a map of a specific region is plotted. By activating the interactive mode, you can define points on the targeted region of the map through right-clicking. To complete the polygon, simply right-click again. If you need to clear the polygon, you can do so by double-clicking.\n",
    "\n",
    "Tips for Activating Interactive Plotting in Different IDEs:\n",
    "\n",
    "VS Code or Jupyter Notebook:\n",
    "\n",
    "1) Ensure that IPYMPL is installed: [IPYMPL Package](https://pypi.org/project/ipympl/)\n",
    "2) Add %matplotlib widget and %matplotlib inline before importing your libraries.\n",
    "3) It’s also useful to include plt.ion() for enabling interactive mode.\n",
    "\n",
    "Spyder:\n",
    "\n",
    "1) Go to Tools -> Preferences.\n",
    "2) Navigate to IPython Console from the menu, then go to the Graphics tab.\n",
    "3) Set the Graphics backend to either Qt or tk."
   ]
  }
 ],
 "metadata": {
  "kernelspec": {
   "display_name": "DeepGPPT",
   "language": "python",
   "name": "python3"
  },
  "language_info": {
   "codemirror_mode": {
    "name": "ipython",
    "version": 3
   },
   "file_extension": ".py",
   "mimetype": "text/x-python",
   "name": "python",
   "nbconvert_exporter": "python",
   "pygments_lexer": "ipython3",
   "version": "3.9.20"
  }
 },
 "nbformat": 4,
 "nbformat_minor": 2
}
